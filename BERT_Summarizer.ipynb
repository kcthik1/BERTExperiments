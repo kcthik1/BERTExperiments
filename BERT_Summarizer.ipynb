{
 "cells": [
  {
   "cell_type": "code",
   "execution_count": 1,
   "id": "faa1a099-00b9-4040-92c8-dc73e944ba96",
   "metadata": {},
   "outputs": [
    {
     "name": "stderr",
     "output_type": "stream",
     "text": [
      "C:\\Users\\LENOVO\\anaconda3\\envs\\myenv\\lib\\site-packages\\sentence_transformers\\cross_encoder\\CrossEncoder.py:11: TqdmExperimentalWarning: Using `tqdm.autonotebook.tqdm` in notebook mode. Use `tqdm.tqdm` instead to force console mode (e.g. in jupyter console)\n",
      "  from tqdm.autonotebook import tqdm, trange\n"
     ]
    }
   ],
   "source": [
    "import numpy as np\n",
    "from sentence_transformers import SentenceTransformer, util"
   ]
  },
  {
   "cell_type": "markdown",
   "id": "5bca9580-f5e2-43dd-87f2-eda5cdcf586a",
   "metadata": {},
   "source": [
    "Reference - Olympics Related News Article\n",
    "https://www.scmp.com/opinion/china-opinion/article/3274583/how-achieve-olympic-success-china-offers-some-answers"
   ]
  },
  {
   "cell_type": "code",
   "execution_count": 2,
   "id": "26d14429-8ef7-421a-9af3-3c525e3e4121",
   "metadata": {},
   "outputs": [],
   "source": [
    "news_article = '''\n",
    "The Olympic Games hold different meanings for various nations, and the assessment of which country performs best often hinges on how medals are counted. In the 2024 Paris Olympics, China achieved its most successful performance since 2008, tying with the United States for the highest number of gold medals—40 each—marking the most golds China has ever secured at a Summer Olympics held outside its home country.\n",
    "China excelled in table tennis and diving, and made significant strides in swimming and tennis, traditionally dominated by Western nations. Pan Zhanle’s astonishing victory in the men’s 100m freestyle sparked disbelief from coach Brett Hawke, who remarked that such a win seemed \"not humanly possible.\" This came despite Pan undergoing doping tests 21 times between May and July.\n",
    "China's swimming team began competing in the Olympics in 1988, winning its first gold in the women’s 100m freestyle in 1992. Since then, it has produced numerous gold medallists, primarily from Jiangsu and Zhejiang provinces, as well as Shanghai. The question arises: how did China achieve such remarkable success, and why do most gold medallists originate from coastal regions?\n",
    "The secret lies in a combination of economic growth, a large population, and geographical advantages. Sociologist Wang Feng, in his book \"China’s Age of Abundance,\" notes that China's economic reforms significantly improved nutrition. In the early 1970s, the average Chinese person consumed less than one egg per week, but by the early 1980s, egg consumption surged by 50%. As the nation grew wealthier, children became taller; boys in urban areas were 5.2 cm taller in 2002 than in 1992, and girls were 5.7 cm taller.\n",
    "China's east coast, known for its wealth, has produced many Olympic gold medallists. The region's affluence contributes to better nutrition and fitness compared to other areas. Additionally, Jiangsu and Zhejiang provinces, with their lakes and rivers, foster a strong interest in swimming from a young age, supported by robust sporting infrastructure.\n",
    "China's vast population allows it to identify athletes with the necessary attributes for various sports. Elite athletes are highly disciplined and endure rigorous training. For instance, southern Chinese athletes, typically smaller, have excelled in diving. Zhanjiang, a city in Guangdong, has produced three Olympic gold medallists in diving since 2004.\n",
    "Seventeen-year-old Quan Hongchan, hailing from Zhanjiang, exemplifies the combination of a typical southern physique, intense training, and mental fortitude, winning three gold medals in diving at the Tokyo and Paris Olympics with perfect scores for her technique.\n",
    "Hong Kong's Olympic journey began with Lee Lai-shan, who secured the territory’s first gold in windsurfing in 1996. After a long wait, Cheung Ka-long won Hong Kong's first gold in fencing 25 years later. With two golds in fencing at the Paris Olympics, Hong Kong ranks among the top 20 in gold medals per capita.\n",
    "Ranked 37th in the medal table, Hong Kong's success is attributed to both the determination of its athletes and government support. In 2024-25, the government allocated HK$5.7 billion for community sports facilities and increased funding for elite athletes to HK$941 million.\n",
    "Since Cheung’s fencing victory in 2021, the government and the Hong Kong Jockey Club launched a HK$300 million Sports Science and Research Funding Scheme to enhance athlete performance. This commitment to supporting athletes is commendable.\n",
    "The achievements of Cheung and Vivian Kong Man-wai have inspired a surge in fencing interest among children. The ongoing success of Hong Kong athletes in various sports, including golf and tennis, has heightened enthusiasm for athletics. The upcoming Sports Park Sai Sha, developed by a private entity, will significantly enhance sports facilities for both elite and community athletes.\n",
    "As top athletes retire, Hong Kong may face challenges in maintaining its Olympic success. However, the abundance of facilities, financial backing, and growing enthusiasm for sports bode well for the territory's long-term athletic development.\n",
    "'''"
   ]
  },
  {
   "cell_type": "code",
   "execution_count": 3,
   "id": "ea87fcc2-70ae-4e44-80d4-fbab4b1ec1dd",
   "metadata": {},
   "outputs": [],
   "source": [
    "sentences = news_article.split('.')"
   ]
  },
  {
   "cell_type": "code",
   "execution_count": 4,
   "id": "fa7e294b-f702-4e09-bddf-eb3b58ed0320",
   "metadata": {},
   "outputs": [
    {
     "name": "stderr",
     "output_type": "stream",
     "text": [
      "C:\\Users\\LENOVO\\anaconda3\\envs\\myenv\\lib\\site-packages\\transformers\\tokenization_utils_base.py:1601: FutureWarning: `clean_up_tokenization_spaces` was not set. It will be set to `True` by default. This behavior will be depracted in transformers v4.45, and will be then set to `False` by default. For more details check this issue: https://github.com/huggingface/transformers/issues/31884\n",
      "  warnings.warn(\n"
     ]
    }
   ],
   "source": [
    "model = SentenceTransformer('all-miniLM-L6-v2')"
   ]
  },
  {
   "cell_type": "markdown",
   "id": "8dd6c66d-75fd-41d2-b48f-d96d9f48e401",
   "metadata": {},
   "source": [
    "Summarization using Cosine Similarity"
   ]
  },
  {
   "cell_type": "code",
   "execution_count": 5,
   "id": "187d4dec-1461-4620-97b2-ec22050e87ff",
   "metadata": {},
   "outputs": [
    {
     "name": "stdout",
     "output_type": "stream",
     "text": [
      "Similarity Matrix:\n",
      "[[ 0.          0.52786404  0.38496211 ...  0.46589595  0.2627154\n",
      "  -0.03561613]\n",
      " [ 0.52786404  0.          0.45094928 ...  0.47985825  0.18692897\n",
      "  -0.02499392]\n",
      " [ 0.38496211  0.45094928  0.         ...  0.46307892  0.39836401\n",
      "  -0.07509203]\n",
      " ...\n",
      " [ 0.46589595  0.47985825  0.46307892 ...  0.          0.44085148\n",
      "   0.06857216]\n",
      " [ 0.2627154   0.18692897  0.39836401 ...  0.44085148  0.\n",
      "   0.1052688 ]\n",
      " [-0.03561613 -0.02499392 -0.07509203 ...  0.06857216  0.1052688\n",
      "   0.        ]]\n",
      "Sentence Scores:\n",
      "[ 8.37293071 10.49509661 12.51742995  5.42930203  4.47388242  9.71469991\n",
      " 11.35286103 12.69189056  7.25510142  5.44211456  5.42490995  4.82270341\n",
      "  2.66498413 13.17065373  7.06187822 10.46502749 12.408704    8.96012358\n",
      " 12.22459268 11.32911286 10.70705842  9.33171475  9.74709541 11.69738064\n",
      " 13.04540006  6.11670022 10.90539877 12.35153531  6.91239204  9.02271495\n",
      " 13.23800947  7.67975943 13.31993415  9.42931323  0.9706012 ]\n"
     ]
    }
   ],
   "source": [
    "sentence_embeddings = model.encode(sentences)\n",
    "\n",
    "# Initialize the similarity matrix\n",
    "similarity_matrix = np.zeros((len(sentences), len(sentences)))\n",
    "\n",
    "#  Calculate cosine similarity\n",
    "for i in range(len(sentences)):\n",
    "    for j in range(len(sentences)):\n",
    "        if i != j:\n",
    "            similarity_matrix[i][j] = util.cos_sim(sentence_embeddings[i], sentence_embeddings[j])\n",
    "\n",
    "# Print the similarity matrix\n",
    "print(\"Similarity Matrix:\")\n",
    "print(similarity_matrix)\n",
    "\n",
    "# Calculate sentence scores\n",
    "sentence_scores = np.sum(similarity_matrix, axis=1)\n",
    "print(\"Sentence Scores:\")\n",
    "print(sentence_scores)"
   ]
  },
  {
   "cell_type": "code",
   "execution_count": 6,
   "id": "6387477f-3119-45b5-8b55-57553f76fbfe",
   "metadata": {},
   "outputs": [],
   "source": [
    "# Select the top 3 sentences with the highest scores\n",
    "summary_sentences = []\n",
    "for i in range(3):\n",
    "    index = np.argmax(sentence_scores)\n",
    "    summary_sentences.append(sentences[index].strip())\n",
    "    sentence_scores[index] = -1\n"
   ]
  },
  {
   "cell_type": "code",
   "execution_count": 7,
   "id": "b3254bfb-85b5-4340-8157-f7d74c5e1701",
   "metadata": {},
   "outputs": [
    {
     "name": "stdout",
     "output_type": "stream",
     "text": [
      "As top athletes retire, Hong Kong may face challenges in maintaining its Olympic success. The ongoing success of Hong Kong athletes in various sports, including golf and tennis, has heightened enthusiasm for athletics. China's east coast, known for its wealth, has produced many Olympic gold medallists\n"
     ]
    }
   ],
   "source": [
    "# Concatenate the summary sentences to create a summary\n",
    "summary = '. '.join(summary_sentences)\n",
    "print(summary)"
   ]
  },
  {
   "cell_type": "markdown",
   "id": "851ba879-13fb-4704-9471-11469c7e730a",
   "metadata": {},
   "source": [
    "Summarization using BERT based Model "
   ]
  },
  {
   "cell_type": "code",
   "execution_count": 8,
   "id": "9d1506fc-2a7e-4f7c-aaa2-07f9cee9afab",
   "metadata": {},
   "outputs": [],
   "source": [
    "from transformers import pipeline\n",
    "\n",
    "summarizer = pipeline(\"summarization\", model=\"facebook/bart-large-cnn\")\n",
    "\n"
   ]
  },
  {
   "cell_type": "code",
   "execution_count": 9,
   "id": "cf8b75f0-18eb-411c-aa3a-ac26e9501ce4",
   "metadata": {},
   "outputs": [
    {
     "name": "stderr",
     "output_type": "stream",
     "text": [
      "Asking to truncate to max_length but no maximum length is provided and the model has no predefined maximum length. Default to no truncation.\n"
     ]
    },
    {
     "name": "stdout",
     "output_type": "stream",
     "text": [
      "In the 2024 Paris Olympics, China achieved its most successful performance since 2008. The secret lies in a combination of economic growth, a large population, and geographical advantages. The east coast, known for its wealth, has produced many Olympic gold medallists.\n"
     ]
    }
   ],
   "source": [
    "# Check if the article is not empty\n",
    "if news_article.strip():\n",
    "    # Summarize the article\n",
    "    summary = summarizer(news_article, max_length=130, min_length=30, do_sample=False, truncation=True)\n",
    "\n",
    "    # Print the summary\n",
    "    print(summary[0]['summary_text'])\n",
    "else:\n",
    "    print(\"The article is empty.\")"
   ]
  },
  {
   "cell_type": "code",
   "execution_count": null,
   "id": "a5961459-c09c-4cac-9190-f9391c33985c",
   "metadata": {},
   "outputs": [],
   "source": []
  }
 ],
 "metadata": {
  "kernelspec": {
   "display_name": "Python 3 (ipykernel)",
   "language": "python",
   "name": "python3"
  },
  "language_info": {
   "codemirror_mode": {
    "name": "ipython",
    "version": 3
   },
   "file_extension": ".py",
   "mimetype": "text/x-python",
   "name": "python",
   "nbconvert_exporter": "python",
   "pygments_lexer": "ipython3",
   "version": "3.8.0"
  }
 },
 "nbformat": 4,
 "nbformat_minor": 5
}
